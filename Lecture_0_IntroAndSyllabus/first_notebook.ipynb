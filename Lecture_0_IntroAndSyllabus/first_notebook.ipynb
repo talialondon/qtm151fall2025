{
 "cells": [
  {
   "cell_type": "markdown",
   "id": "5370f41d",
   "metadata": {},
   "source": [
    "This is my first Jupyter notebook. "
   ]
  }
 ],
 "metadata": {
  "language_info": {
   "name": "python"
  }
 },
 "nbformat": 4,
 "nbformat_minor": 5
}
